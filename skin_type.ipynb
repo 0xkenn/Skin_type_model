{
 "cells": [
  {
   "cell_type": "code",
   "execution_count": 60,
   "id": "7012523a-4403-4b74-b990-ec286d929fb7",
   "metadata": {
    "editable": true,
    "slideshow": {
     "slide_type": ""
    },
    "tags": []
   },
   "outputs": [],
   "source": [
    "import tensorflow as tf\n",
    "import pandas as pd\n",
    "import matplotlib.pyplot as plt\n",
    "from tensorflow.keras import Model \n",
    "from tensorflow.keras.layers import Conv2D, Dense, MaxPooling2D, Dropout, Flatten,GlobalAveragePooling2D\n",
    "from tensorflow.keras.models import Sequential\n",
    "from tensorflow.keras.preprocessing.image import ImageDataGenerator\n",
    "from tensorflow.keras.callbacks import ReduceLROnPlateau\n",
    "from tensorflow.keras.layers import Input, Lambda, Dense, Flatten\n",
    "from tensorflow.keras.models import Model\n",
    "from tensorflow.keras.applications.inception_v3 import InceptionV3\n",
    "from tensorflow.keras.applications.efficientnet import EfficientNetB7\n",
    "from tensorflow.keras.applications.inception_v3 import preprocess_input\n",
    "from tensorflow.keras.preprocessing import image\n",
    "from tensorflow.keras.preprocessing.image import ImageDataGenerator,load_img\n",
    "from tensorflow.keras.models import Sequential\n",
    "from tensorflow.keras.regularizers import l2\n",
    "\n",
    "import numpy as np\n",
    "\n",
    "from glob import glob\n",
    "from PIL import ImageFile\n",
    "\n",
    "ImageFile.LOAD_TRUNCATED_IMAGES = True\n",
    "# Data per Cycle\n",
    "#Reduce if blue screen\n"
   ]
  },
  {
   "cell_type": "code",
   "execution_count": 61,
   "id": "e06eb8ff-d025-432e-a94e-25a290e5aa84",
   "metadata": {
    "tags": []
   },
   "outputs": [],
   "source": [
    "data_path = 'C:\\\\Users\\\\kenny\\\\Desktop\\\\trainskin\\\\data\\\\'\n",
    "\n",
    "train_path = data_path + 'train\\\\'\n",
    "test_path = data_path + 'test\\\\'\n",
    "val_path = data_path + 'validate\\\\'\n",
    "\n"
   ]
  },
  {
   "cell_type": "code",
   "execution_count": 62,
   "id": "a61fc751-eac4-4139-96ab-ac160e2fdd49",
   "metadata": {
    "tags": []
   },
   "outputs": [
    {
     "data": {
      "text/plain": [
       "4"
      ]
     },
     "execution_count": 62,
     "metadata": {},
     "output_type": "execute_result"
    }
   ],
   "source": [
    "folders = glob( 'C:\\\\Users\\\\kenny\\\\Desktop\\\\trainskin\\\\data\\\\train\\\\*')\n",
    "len(folders)\n",
    "\n"
   ]
  },
  {
   "cell_type": "code",
   "execution_count": 63,
   "id": "2310ed7f-6630-4859-bd00-8acc515acc0e",
   "metadata": {
    "tags": []
   },
   "outputs": [],
   "source": [
    "import warnings\n",
    "warnings.filterwarnings(\"ignore\", category=FutureWarning)"
   ]
  },
  {
   "cell_type": "code",
   "execution_count": 64,
   "id": "41b0f5a6-12c1-4379-ac99-c619e77dbb8e",
   "metadata": {
    "tags": []
   },
   "outputs": [],
   "source": [
    "\n",
    "used_model = tf.keras.applications.InceptionV3(weights='imagenet', include_top=False, input_shape=(224, 224, 3))\n"
   ]
  },
  {
   "cell_type": "code",
   "execution_count": 65,
   "id": "d936f429-08f9-4300-9bc9-4c85c0612ce5",
   "metadata": {
    "editable": true,
    "slideshow": {
     "slide_type": ""
    },
    "tags": []
   },
   "outputs": [],
   "source": [
    "from tensorflow.keras import Model \n",
    "from tensorflow.keras.layers import Conv2D, Dense, MaxPooling2D, Dropout, Flatten,GlobalAveragePooling2D\n",
    "from tensorflow.keras.models import Sequential\n",
    "\n",
    "# The last 15 layers fine tune\n",
    "for layer in used_model.layers[:-15]:\n",
    "    layer.trainable = False\n",
    "\n",
    "\n",
    "x = used_model.output\n",
    "x = GlobalAveragePooling2D()(x)\n",
    "x = Dense(units=512, activation='relu', kernel_regularizer=l2(0.0001))(x)  # First Dense layer\n",
    "x = Dropout(0.2)(x)\n",
    "\n",
    "x = Dense(units=256, activation='relu', kernel_regularizer=l2(0.0001))(x)  # Second Dense layer\n",
    "x = Dropout(0.2)(x)\n",
    "\n",
    "\n",
    "\n",
    "\n",
    "#unit change to 4 or 5 after adding the acne and combination datasets\n",
    "output  = Dense(units=4, activation='softmax')(x)\n",
    "\n",
    "model = Model(used_model.input, output)\n",
    "\n",
    "#model.summary()"
   ]
  },
  {
   "cell_type": "code",
   "execution_count": 66,
   "id": "6ffcee4a-42d6-4c00-b6c9-67e04a8ecda4",
   "metadata": {
    "tags": []
   },
   "outputs": [],
   "source": [
    "loss = tf.keras.losses.CategoricalCrossentropy()\n",
    "\n",
    "optimizer = tf.keras.optimizers.Adam(learning_rate=0.00001)\n",
    "\n",
    "model.compile(optimizer=optimizer, loss=loss, metrics= ['accuracy'])"
   ]
  },
  {
   "cell_type": "markdown",
   "id": "17970642-0dc6-4b1c-981b-cecbbb37731f",
   "metadata": {
    "tags": []
   },
   "source": [
    "# Assistant\n",
    "The error occurs because the variable 'model' is being used in the 'model.compile' line before it has been defined. The 'model' variable needs to be defined before it can be used in the 'model.compile' line.\n",
    "\n",
    "Would you like me to provide the corrected code?"
   ]
  },
  {
   "cell_type": "code",
   "execution_count": 69,
   "id": "4110e1eb-2a5d-43ed-a3e4-f1c303d46aac",
   "metadata": {
    "editable": true,
    "slideshow": {
     "slide_type": ""
    },
    "tags": []
   },
   "outputs": [],
   "source": [
    "\n",
    "\n",
    "train_datagen = ImageDataGenerator(\n",
    "    rescale=1./255,\n",
    "    rotation_range=10,         # Reduced rotation range\n",
    "    width_shift_range=0.05,    # Reduced width shift\n",
    "    height_shift_range=0.05,   # Reduced height shift\n",
    "    shear_range=0.0,           # Removed shearing\n",
    "    zoom_range=[1.0, 1.1],     # Slight zoom in\n",
    "    brightness_range=[0.9, 1.1], # Narrowed brightness range\n",
    "    horizontal_flip=True,      # Use cautiously\n",
    "    vertical_flip=False,       # Removed vertical flip\n",
    "    fill_mode='nearest'        # Keep fill mode\n",
    ")\n",
    "\n"
   ]
  },
  {
   "cell_type": "code",
   "execution_count": 70,
   "id": "51d73709-6e23-4cc8-abb0-5b19065bf6e1",
   "metadata": {
    "tags": []
   },
   "outputs": [],
   "source": [
    "test_datagen = ImageDataGenerator(rescale = 1./255)"
   ]
  },
  {
   "cell_type": "code",
   "execution_count": 71,
   "id": "507c6f39-3704-4c77-b647-740b57bfede6",
   "metadata": {
    "tags": []
   },
   "outputs": [
    {
     "name": "stdout",
     "output_type": "stream",
     "text": [
      "Found 731 images belonging to 4 classes.\n"
     ]
    }
   ],
   "source": [
    "# Make sure you provide the same target size as initialied for the image size\n",
    "# Change batch if encoutering blue screen\n",
    "training_set = train_datagen.flow_from_directory(train_path,\n",
    "                                                 target_size = (224, 224),\n",
    "                                                 batch_size = 64,\n",
    "                                                 class_mode = 'categorical')\n"
   ]
  },
  {
   "cell_type": "code",
   "execution_count": 72,
   "id": "dbeab764-49eb-416e-830d-a2358d423882",
   "metadata": {
    "tags": []
   },
   "outputs": [
    {
     "name": "stdout",
     "output_type": "stream",
     "text": [
      "Found 60 images belonging to 4 classes.\n"
     ]
    }
   ],
   "source": [
    "test_set = test_datagen.flow_from_directory(test_path,\n",
    "                                            target_size = (224, 224),\n",
    "                                            batch_size = 64,\n",
    "                                            class_mode = 'categorical')"
   ]
  },
  {
   "cell_type": "code",
   "execution_count": 73,
   "id": "fc5820ad-f79d-40b6-9b21-5f6ad9e82785",
   "metadata": {
    "tags": []
   },
   "outputs": [],
   "source": [
    "from keras.callbacks import ModelCheckpoint\n",
    "\n",
    "checkpoint = ModelCheckpoint('skin_modelV5.h5', \n",
    "    verbose=1,  \n",
    "    monitor='val_accuracy',\n",
    "    save_best_only=True, \n",
    "    mode='auto'\n",
    ")  "
   ]
  },
  {
   "cell_type": "code",
   "execution_count": 74,
   "id": "ffba76b2-ef63-41c5-ab97-63e5791ada7a",
   "metadata": {},
   "outputs": [],
   "source": [
    "from keras.callbacks import EarlyStopping\n",
    "\n",
    "early_stopping = EarlyStopping(\n",
    "    monitor='val_loss',\n",
    "    patience=10,\n",
    "    restore_best_weights=True\n",
    ") \n",
    "# avoid potential overfitting"
   ]
  },
  {
   "cell_type": "code",
   "execution_count": 75,
   "id": "698b2335-53dc-4115-8ae8-f9cc5f5cb6c3",
   "metadata": {},
   "outputs": [],
   "source": [
    "lr_scheduler = ReduceLROnPlateau(\n",
    "    monitor='val_loss',\n",
    "    factor=0.5,  # Reduce the learning rate by a factor of 0.5\n",
    "    patience=5,  # Wait for 5 epochs before reducing\n",
    "    min_lr=1e-6  # Minimum learning rate\n",
    ")"
   ]
  },
  {
   "cell_type": "code",
   "execution_count": 76,
   "id": "7586dc26-c8d8-45be-af19-e1fa5e81638d",
   "metadata": {
    "tags": []
   },
   "outputs": [
    {
     "name": "stdout",
     "output_type": "stream",
     "text": [
      "Epoch 1/50\n",
      "12/12 [==============================] - ETA: 0s - loss: 1.6263 - accuracy: 0.2544\n",
      "Epoch 1: val_accuracy improved from -inf to 0.16667, saving model to skin_modelV5.h5\n"
     ]
    },
    {
     "name": "stderr",
     "output_type": "stream",
     "text": [
      "C:\\ProgramData\\anaconda3\\envs\\forMLS\\lib\\site-packages\\keras\\src\\engine\\training.py:3103: UserWarning: You are saving your model as an HDF5 file via `model.save()`. This file format is considered legacy. We recommend using instead the native Keras format, e.g. `model.save('my_model.keras')`.\n",
      "  saving_api.save_model(\n"
     ]
    },
    {
     "name": "stdout",
     "output_type": "stream",
     "text": [
      "12/12 [==============================] - 31s 2s/step - loss: 1.6263 - accuracy: 0.2544 - val_loss: 1.5944 - val_accuracy: 0.1667 - lr: 1.0000e-05\n",
      "Epoch 2/50\n",
      "12/12 [==============================] - ETA: 0s - loss: 1.5230 - accuracy: 0.3037\n",
      "Epoch 2: val_accuracy improved from 0.16667 to 0.30000, saving model to skin_modelV5.h5\n",
      "12/12 [==============================] - 23s 2s/step - loss: 1.5230 - accuracy: 0.3037 - val_loss: 1.5110 - val_accuracy: 0.3000 - lr: 1.0000e-05\n",
      "Epoch 3/50\n",
      "12/12 [==============================] - ETA: 0s - loss: 1.4551 - accuracy: 0.3461\n",
      "Epoch 3: val_accuracy improved from 0.30000 to 0.38333, saving model to skin_modelV5.h5\n",
      "12/12 [==============================] - 24s 2s/step - loss: 1.4551 - accuracy: 0.3461 - val_loss: 1.4551 - val_accuracy: 0.3833 - lr: 1.0000e-05\n",
      "Epoch 4/50\n",
      "12/12 [==============================] - ETA: 0s - loss: 1.4370 - accuracy: 0.3570\n",
      "Epoch 4: val_accuracy improved from 0.38333 to 0.51667, saving model to skin_modelV5.h5\n",
      "12/12 [==============================] - 23s 2s/step - loss: 1.4370 - accuracy: 0.3570 - val_loss: 1.3878 - val_accuracy: 0.5167 - lr: 1.0000e-05\n",
      "Epoch 5/50\n",
      "12/12 [==============================] - ETA: 0s - loss: 1.3741 - accuracy: 0.4405\n",
      "Epoch 5: val_accuracy improved from 0.51667 to 0.58333, saving model to skin_modelV5.h5\n",
      "12/12 [==============================] - 23s 2s/step - loss: 1.3741 - accuracy: 0.4405 - val_loss: 1.3236 - val_accuracy: 0.5833 - lr: 1.0000e-05\n",
      "Epoch 6/50\n",
      "12/12 [==============================] - ETA: 0s - loss: 1.3456 - accuracy: 0.4706\n",
      "Epoch 6: val_accuracy improved from 0.58333 to 0.61667, saving model to skin_modelV5.h5\n",
      "12/12 [==============================] - 23s 2s/step - loss: 1.3456 - accuracy: 0.4706 - val_loss: 1.2655 - val_accuracy: 0.6167 - lr: 1.0000e-05\n",
      "Epoch 7/50\n",
      "12/12 [==============================] - ETA: 0s - loss: 1.2963 - accuracy: 0.4884\n",
      "Epoch 7: val_accuracy improved from 0.61667 to 0.66667, saving model to skin_modelV5.h5\n",
      "12/12 [==============================] - 23s 2s/step - loss: 1.2963 - accuracy: 0.4884 - val_loss: 1.2103 - val_accuracy: 0.6667 - lr: 1.0000e-05\n",
      "Epoch 8/50\n",
      "12/12 [==============================] - ETA: 0s - loss: 1.2783 - accuracy: 0.5198\n",
      "Epoch 8: val_accuracy improved from 0.66667 to 0.71667, saving model to skin_modelV5.h5\n",
      "12/12 [==============================] - 24s 2s/step - loss: 1.2783 - accuracy: 0.5198 - val_loss: 1.1617 - val_accuracy: 0.7167 - lr: 1.0000e-05\n",
      "Epoch 9/50\n",
      "12/12 [==============================] - ETA: 0s - loss: 1.2296 - accuracy: 0.5636\n",
      "Epoch 9: val_accuracy improved from 0.71667 to 0.75000, saving model to skin_modelV5.h5\n",
      "12/12 [==============================] - 24s 2s/step - loss: 1.2296 - accuracy: 0.5636 - val_loss: 1.1139 - val_accuracy: 0.7500 - lr: 1.0000e-05\n",
      "Epoch 10/50\n",
      "12/12 [==============================] - ETA: 0s - loss: 1.2213 - accuracy: 0.5855\n",
      "Epoch 10: val_accuracy improved from 0.75000 to 0.76667, saving model to skin_modelV5.h5\n",
      "12/12 [==============================] - 23s 2s/step - loss: 1.2213 - accuracy: 0.5855 - val_loss: 1.0654 - val_accuracy: 0.7667 - lr: 1.0000e-05\n",
      "Epoch 11/50\n",
      "12/12 [==============================] - ETA: 0s - loss: 1.1611 - accuracy: 0.5828\n",
      "Epoch 11: val_accuracy improved from 0.76667 to 0.78333, saving model to skin_modelV5.h5\n",
      "12/12 [==============================] - 23s 2s/step - loss: 1.1611 - accuracy: 0.5828 - val_loss: 1.0263 - val_accuracy: 0.7833 - lr: 1.0000e-05\n",
      "Epoch 12/50\n",
      "12/12 [==============================] - ETA: 0s - loss: 1.1493 - accuracy: 0.6211\n",
      "Epoch 12: val_accuracy did not improve from 0.78333\n",
      "12/12 [==============================] - 23s 2s/step - loss: 1.1493 - accuracy: 0.6211 - val_loss: 0.9895 - val_accuracy: 0.7667 - lr: 1.0000e-05\n",
      "Epoch 13/50\n",
      "12/12 [==============================] - ETA: 0s - loss: 1.1166 - accuracy: 0.6197\n",
      "Epoch 13: val_accuracy did not improve from 0.78333\n",
      "12/12 [==============================] - 22s 2s/step - loss: 1.1166 - accuracy: 0.6197 - val_loss: 0.9641 - val_accuracy: 0.7667 - lr: 1.0000e-05\n",
      "Epoch 14/50\n",
      "12/12 [==============================] - ETA: 0s - loss: 1.1067 - accuracy: 0.6224\n",
      "Epoch 14: val_accuracy did not improve from 0.78333\n",
      "12/12 [==============================] - 22s 2s/step - loss: 1.1067 - accuracy: 0.6224 - val_loss: 0.9297 - val_accuracy: 0.7833 - lr: 1.0000e-05\n",
      "Epoch 15/50\n",
      "12/12 [==============================] - ETA: 0s - loss: 1.0767 - accuracy: 0.6156\n",
      "Epoch 15: val_accuracy did not improve from 0.78333\n",
      "12/12 [==============================] - 22s 2s/step - loss: 1.0767 - accuracy: 0.6156 - val_loss: 0.8936 - val_accuracy: 0.7833 - lr: 1.0000e-05\n",
      "Epoch 16/50\n",
      "12/12 [==============================] - ETA: 0s - loss: 1.0550 - accuracy: 0.6498\n",
      "Epoch 16: val_accuracy did not improve from 0.78333\n",
      "12/12 [==============================] - 22s 2s/step - loss: 1.0550 - accuracy: 0.6498 - val_loss: 0.8604 - val_accuracy: 0.7833 - lr: 1.0000e-05\n",
      "Epoch 17/50\n",
      "12/12 [==============================] - ETA: 0s - loss: 1.0450 - accuracy: 0.6375\n",
      "Epoch 17: val_accuracy improved from 0.78333 to 0.80000, saving model to skin_modelV5.h5\n",
      "12/12 [==============================] - 23s 2s/step - loss: 1.0450 - accuracy: 0.6375 - val_loss: 0.8437 - val_accuracy: 0.8000 - lr: 1.0000e-05\n",
      "Epoch 18/50\n",
      "12/12 [==============================] - ETA: 0s - loss: 1.0124 - accuracy: 0.6621\n",
      "Epoch 18: val_accuracy improved from 0.80000 to 0.81667, saving model to skin_modelV5.h5\n",
      "12/12 [==============================] - 22s 2s/step - loss: 1.0124 - accuracy: 0.6621 - val_loss: 0.8219 - val_accuracy: 0.8167 - lr: 1.0000e-05\n",
      "Epoch 19/50\n",
      "12/12 [==============================] - ETA: 0s - loss: 0.9799 - accuracy: 0.6881\n",
      "Epoch 19: val_accuracy did not improve from 0.81667\n",
      "12/12 [==============================] - 22s 2s/step - loss: 0.9799 - accuracy: 0.6881 - val_loss: 0.8036 - val_accuracy: 0.8167 - lr: 1.0000e-05\n",
      "Epoch 20/50\n",
      "12/12 [==============================] - ETA: 0s - loss: 0.9750 - accuracy: 0.6553\n",
      "Epoch 20: val_accuracy did not improve from 0.81667\n",
      "12/12 [==============================] - 22s 2s/step - loss: 0.9750 - accuracy: 0.6553 - val_loss: 0.7763 - val_accuracy: 0.8167 - lr: 1.0000e-05\n",
      "Epoch 21/50\n",
      "12/12 [==============================] - ETA: 0s - loss: 0.9434 - accuracy: 0.6908\n",
      "Epoch 21: val_accuracy did not improve from 0.81667\n",
      "12/12 [==============================] - 22s 2s/step - loss: 0.9434 - accuracy: 0.6908 - val_loss: 0.7633 - val_accuracy: 0.8167 - lr: 1.0000e-05\n",
      "Epoch 22/50\n",
      "12/12 [==============================] - ETA: 0s - loss: 0.9566 - accuracy: 0.6676\n",
      "Epoch 22: val_accuracy improved from 0.81667 to 0.85000, saving model to skin_modelV5.h5\n",
      "12/12 [==============================] - 23s 2s/step - loss: 0.9566 - accuracy: 0.6676 - val_loss: 0.7430 - val_accuracy: 0.8500 - lr: 1.0000e-05\n",
      "Epoch 23/50\n",
      "12/12 [==============================] - ETA: 0s - loss: 0.9339 - accuracy: 0.6840\n",
      "Epoch 23: val_accuracy did not improve from 0.85000\n",
      "12/12 [==============================] - 22s 2s/step - loss: 0.9339 - accuracy: 0.6840 - val_loss: 0.7225 - val_accuracy: 0.8500 - lr: 1.0000e-05\n",
      "Epoch 24/50\n",
      "12/12 [==============================] - ETA: 0s - loss: 0.9050 - accuracy: 0.7086\n",
      "Epoch 24: val_accuracy did not improve from 0.85000\n",
      "12/12 [==============================] - 23s 2s/step - loss: 0.9050 - accuracy: 0.7086 - val_loss: 0.7053 - val_accuracy: 0.8500 - lr: 1.0000e-05\n",
      "Epoch 25/50\n",
      "12/12 [==============================] - ETA: 0s - loss: 0.8987 - accuracy: 0.7073\n",
      "Epoch 25: val_accuracy did not improve from 0.85000\n",
      "12/12 [==============================] - 27s 2s/step - loss: 0.8987 - accuracy: 0.7073 - val_loss: 0.6854 - val_accuracy: 0.8500 - lr: 1.0000e-05\n",
      "Epoch 26/50\n",
      "12/12 [==============================] - ETA: 0s - loss: 0.8821 - accuracy: 0.6977\n",
      "Epoch 26: val_accuracy did not improve from 0.85000\n",
      "12/12 [==============================] - 30s 2s/step - loss: 0.8821 - accuracy: 0.6977 - val_loss: 0.6697 - val_accuracy: 0.8500 - lr: 1.0000e-05\n",
      "Epoch 27/50\n",
      "12/12 [==============================] - ETA: 0s - loss: 0.8781 - accuracy: 0.7114\n",
      "Epoch 27: val_accuracy did not improve from 0.85000\n",
      "12/12 [==============================] - 27s 2s/step - loss: 0.8781 - accuracy: 0.7114 - val_loss: 0.6555 - val_accuracy: 0.8500 - lr: 1.0000e-05\n",
      "Epoch 28/50\n",
      "12/12 [==============================] - ETA: 0s - loss: 0.8616 - accuracy: 0.7073\n",
      "Epoch 28: val_accuracy did not improve from 0.85000\n",
      "12/12 [==============================] - 35s 3s/step - loss: 0.8616 - accuracy: 0.7073 - val_loss: 0.6437 - val_accuracy: 0.8500 - lr: 1.0000e-05\n",
      "Epoch 29/50\n",
      "12/12 [==============================] - ETA: 0s - loss: 0.8643 - accuracy: 0.7141\n",
      "Epoch 29: val_accuracy did not improve from 0.85000\n",
      "12/12 [==============================] - 37s 3s/step - loss: 0.8643 - accuracy: 0.7141 - val_loss: 0.6386 - val_accuracy: 0.8500 - lr: 1.0000e-05\n",
      "Epoch 30/50\n",
      "12/12 [==============================] - ETA: 0s - loss: 0.8450 - accuracy: 0.7237\n",
      "Epoch 30: val_accuracy improved from 0.85000 to 0.86667, saving model to skin_modelV5.h5\n",
      "12/12 [==============================] - 24s 2s/step - loss: 0.8450 - accuracy: 0.7237 - val_loss: 0.6226 - val_accuracy: 0.8667 - lr: 1.0000e-05\n",
      "Epoch 31/50\n",
      "12/12 [==============================] - ETA: 0s - loss: 0.8393 - accuracy: 0.7155\n",
      "Epoch 31: val_accuracy did not improve from 0.86667\n",
      "12/12 [==============================] - 22s 2s/step - loss: 0.8393 - accuracy: 0.7155 - val_loss: 0.6085 - val_accuracy: 0.8667 - lr: 1.0000e-05\n",
      "Epoch 32/50\n",
      "12/12 [==============================] - ETA: 0s - loss: 0.8604 - accuracy: 0.7182\n",
      "Epoch 32: val_accuracy improved from 0.86667 to 0.88333, saving model to skin_modelV5.h5\n",
      "12/12 [==============================] - 23s 2s/step - loss: 0.8604 - accuracy: 0.7182 - val_loss: 0.5973 - val_accuracy: 0.8833 - lr: 1.0000e-05\n",
      "Epoch 33/50\n",
      "12/12 [==============================] - ETA: 0s - loss: 0.8131 - accuracy: 0.7209\n",
      "Epoch 33: val_accuracy did not improve from 0.88333\n",
      "12/12 [==============================] - 23s 2s/step - loss: 0.8131 - accuracy: 0.7209 - val_loss: 0.5922 - val_accuracy: 0.8833 - lr: 1.0000e-05\n",
      "Epoch 34/50\n",
      "12/12 [==============================] - ETA: 0s - loss: 0.8031 - accuracy: 0.7373\n",
      "Epoch 34: val_accuracy did not improve from 0.88333\n",
      "12/12 [==============================] - 23s 2s/step - loss: 0.8031 - accuracy: 0.7373 - val_loss: 0.5862 - val_accuracy: 0.8833 - lr: 1.0000e-05\n",
      "Epoch 35/50\n",
      "12/12 [==============================] - ETA: 0s - loss: 0.8174 - accuracy: 0.7182\n",
      "Epoch 35: val_accuracy did not improve from 0.88333\n",
      "12/12 [==============================] - 22s 2s/step - loss: 0.8174 - accuracy: 0.7182 - val_loss: 0.5767 - val_accuracy: 0.8833 - lr: 1.0000e-05\n",
      "Epoch 36/50\n",
      "12/12 [==============================] - ETA: 0s - loss: 0.7921 - accuracy: 0.7456\n",
      "Epoch 36: val_accuracy improved from 0.88333 to 0.90000, saving model to skin_modelV5.h5\n",
      "12/12 [==============================] - 22s 2s/step - loss: 0.7921 - accuracy: 0.7456 - val_loss: 0.5596 - val_accuracy: 0.9000 - lr: 1.0000e-05\n",
      "Epoch 37/50\n",
      "12/12 [==============================] - ETA: 0s - loss: 0.8238 - accuracy: 0.7168\n",
      "Epoch 37: val_accuracy did not improve from 0.90000\n",
      "12/12 [==============================] - 22s 2s/step - loss: 0.8238 - accuracy: 0.7168 - val_loss: 0.5486 - val_accuracy: 0.9000 - lr: 1.0000e-05\n",
      "Epoch 38/50\n",
      "12/12 [==============================] - ETA: 0s - loss: 0.7849 - accuracy: 0.7278\n",
      "Epoch 38: val_accuracy did not improve from 0.90000\n",
      "12/12 [==============================] - 22s 2s/step - loss: 0.7849 - accuracy: 0.7278 - val_loss: 0.5491 - val_accuracy: 0.8833 - lr: 1.0000e-05\n",
      "Epoch 39/50\n",
      "12/12 [==============================] - ETA: 0s - loss: 0.7752 - accuracy: 0.7442\n",
      "Epoch 39: val_accuracy did not improve from 0.90000\n",
      "12/12 [==============================] - 22s 2s/step - loss: 0.7752 - accuracy: 0.7442 - val_loss: 0.5409 - val_accuracy: 0.9000 - lr: 1.0000e-05\n",
      "Epoch 40/50\n",
      "12/12 [==============================] - ETA: 0s - loss: 0.7757 - accuracy: 0.7373\n",
      "Epoch 40: val_accuracy did not improve from 0.90000\n",
      "12/12 [==============================] - 22s 2s/step - loss: 0.7757 - accuracy: 0.7373 - val_loss: 0.5400 - val_accuracy: 0.9000 - lr: 1.0000e-05\n",
      "Epoch 41/50\n",
      "12/12 [==============================] - ETA: 0s - loss: 0.7774 - accuracy: 0.7401\n",
      "Epoch 41: val_accuracy did not improve from 0.90000\n",
      "12/12 [==============================] - 22s 2s/step - loss: 0.7774 - accuracy: 0.7401 - val_loss: 0.5385 - val_accuracy: 0.8667 - lr: 1.0000e-05\n",
      "Epoch 42/50\n",
      "12/12 [==============================] - ETA: 0s - loss: 0.7494 - accuracy: 0.7551\n",
      "Epoch 42: val_accuracy did not improve from 0.90000\n",
      "12/12 [==============================] - 23s 2s/step - loss: 0.7494 - accuracy: 0.7551 - val_loss: 0.5253 - val_accuracy: 0.9000 - lr: 1.0000e-05\n",
      "Epoch 43/50\n",
      "12/12 [==============================] - ETA: 0s - loss: 0.7591 - accuracy: 0.7483\n",
      "Epoch 43: val_accuracy did not improve from 0.90000\n",
      "12/12 [==============================] - 22s 2s/step - loss: 0.7591 - accuracy: 0.7483 - val_loss: 0.5181 - val_accuracy: 0.8833 - lr: 1.0000e-05\n",
      "Epoch 44/50\n",
      "12/12 [==============================] - ETA: 0s - loss: 0.7671 - accuracy: 0.7483\n",
      "Epoch 44: val_accuracy did not improve from 0.90000\n",
      "12/12 [==============================] - 24s 2s/step - loss: 0.7671 - accuracy: 0.7483 - val_loss: 0.5158 - val_accuracy: 0.8833 - lr: 1.0000e-05\n",
      "Epoch 45/50\n",
      "12/12 [==============================] - ETA: 0s - loss: 0.7367 - accuracy: 0.7551\n",
      "Epoch 45: val_accuracy did not improve from 0.90000\n",
      "12/12 [==============================] - 22s 2s/step - loss: 0.7367 - accuracy: 0.7551 - val_loss: 0.5136 - val_accuracy: 0.8833 - lr: 1.0000e-05\n",
      "Epoch 46/50\n",
      "12/12 [==============================] - ETA: 0s - loss: 0.7460 - accuracy: 0.7620\n",
      "Epoch 46: val_accuracy did not improve from 0.90000\n",
      "12/12 [==============================] - 22s 2s/step - loss: 0.7460 - accuracy: 0.7620 - val_loss: 0.5112 - val_accuracy: 0.8833 - lr: 1.0000e-05\n",
      "Epoch 47/50\n",
      "12/12 [==============================] - ETA: 0s - loss: 0.7267 - accuracy: 0.7729\n",
      "Epoch 47: val_accuracy did not improve from 0.90000\n",
      "12/12 [==============================] - 22s 2s/step - loss: 0.7267 - accuracy: 0.7729 - val_loss: 0.5015 - val_accuracy: 0.8833 - lr: 1.0000e-05\n",
      "Epoch 48/50\n",
      "12/12 [==============================] - ETA: 0s - loss: 0.7255 - accuracy: 0.7688\n",
      "Epoch 48: val_accuracy did not improve from 0.90000\n",
      "12/12 [==============================] - 22s 2s/step - loss: 0.7255 - accuracy: 0.7688 - val_loss: 0.4917 - val_accuracy: 0.9000 - lr: 1.0000e-05\n",
      "Epoch 49/50\n",
      "12/12 [==============================] - ETA: 0s - loss: 0.7094 - accuracy: 0.7893\n",
      "Epoch 49: val_accuracy did not improve from 0.90000\n",
      "12/12 [==============================] - 22s 2s/step - loss: 0.7094 - accuracy: 0.7893 - val_loss: 0.4934 - val_accuracy: 0.9000 - lr: 1.0000e-05\n",
      "Epoch 50/50\n",
      "12/12 [==============================] - ETA: 0s - loss: 0.7330 - accuracy: 0.7688\n",
      "Epoch 50: val_accuracy did not improve from 0.90000\n",
      "12/12 [==============================] - 23s 2s/step - loss: 0.7330 - accuracy: 0.7688 - val_loss: 0.4936 - val_accuracy: 0.8833 - lr: 1.0000e-05\n"
     ]
    }
   ],
   "source": [
    "# fit the model\n",
    "# Run the cell. It will take some time to execute\n",
    "# Change epoch when needed\n",
    "r = model.fit(\n",
    "    training_set,\n",
    "    validation_data=test_set,\n",
    "    epochs= 50,\n",
    "    steps_per_epoch=len(training_set),\n",
    "    validation_steps=len(test_set),\n",
    "    callbacks=[checkpoint, early_stopping, lr_scheduler ]\n",
    ")"
   ]
  },
  {
   "cell_type": "code",
   "execution_count": null,
   "id": "40c98eeb-5e67-42d0-b9db-7e135630d921",
   "metadata": {},
   "outputs": [],
   "source": []
  },
  {
   "cell_type": "code",
   "execution_count": 77,
   "id": "4ba75524-7254-4941-bc33-b657a6dd6e82",
   "metadata": {
    "tags": []
   },
   "outputs": [
    {
     "data": {
      "image/png": "[encoded data removed]",
      "text/plain": [
       "<Figure size 640x480 with 1 Axes>"
      ]
     },
     "metadata": {},
     "output_type": "display_data"
    },
    {
     "data": {
      "image/png": "[encoded data removed]",
      "text/plain": [
       "<Figure size 640x480 with 1 Axes>"
      ]
     },
     "metadata": {},
     "output_type": "display_data"
    },
    {
     "data": {
      "text/plain": [
       "<Figure size 640x480 with 0 Axes>"
      ]
     },
     "metadata": {},
     "output_type": "display_data"
    }
   ],
   "source": [
    "# plot the loss\n",
    "plt.plot(r.history['loss'], label='train loss')\n",
    "plt.plot(r.history['val_loss'], label='val loss')\n",
    "plt.legend()\n",
    "plt.show()\n",
    "plt.savefig('LossVal_loss')\n",
    "\n",
    "# plot the accuracy\n",
    "plt.plot(r.history['accuracy'], label='train acc')\n",
    "plt.plot(r.history['val_accuracy'], label='val acc')\n",
    "plt.legend()\n",
    "plt.show()\n",
    "plt.savefig('AccVal_acc')"
   ]
  },
  {
   "cell_type": "code",
   "execution_count": 122,
   "id": "b6a230c4-2cf8-461b-90ec-0c5730119bda",
   "metadata": {},
   "outputs": [
    {
     "ename": "ModuleNotFoundError",
     "evalue": "No module named 'torch'",
     "output_type": "error",
     "traceback": [
      "\u001b[1;31m---------------------------------------------------------------------------\u001b[0m",
      "\u001b[1;31mModuleNotFoundError\u001b[0m                       Traceback (most recent call last)",
      "\u001b[1;32m~\\AppData\\Local\\Temp\\ipykernel_13868\\2779910155.py\u001b[0m in \u001b[0;36m<module>\u001b[1;34m\u001b[0m\n\u001b[1;32m----> 1\u001b[1;33m \u001b[1;32mfrom\u001b[0m \u001b[0mtorch\u001b[0m\u001b[1;33m.\u001b[0m\u001b[0mutils\u001b[0m\u001b[1;33m.\u001b[0m\u001b[0mtensorboard\u001b[0m \u001b[1;32mimport\u001b[0m \u001b[0mSummaryWriter\u001b[0m\u001b[1;33m\u001b[0m\u001b[1;33m\u001b[0m\u001b[0m\n\u001b[0m\u001b[0;32m      2\u001b[0m \u001b[1;33m\u001b[0m\u001b[0m\n\u001b[0;32m      3\u001b[0m \u001b[1;33m\u001b[0m\u001b[0m\n\u001b[0;32m      4\u001b[0m \u001b[0mwriter\u001b[0m \u001b[1;33m=\u001b[0m \u001b[0mSummaryWriter\u001b[0m\u001b[1;33m(\u001b[0m\u001b[1;33m)\u001b[0m\u001b[1;33m\u001b[0m\u001b[1;33m\u001b[0m\u001b[0m\n\u001b[0;32m      5\u001b[0m \u001b[1;33m\u001b[0m\u001b[0m\n",
      "\u001b[1;31mModuleNotFoundError\u001b[0m: No module named 'torch'"
     ]
    }
   ],
   "source": [
    "\n",
    "from torch.utils.tensorboard import SummaryWriter\n",
    "\n",
    "\n",
    "writer = SummaryWriter()\n",
    "\n",
    "\n",
    "for epoch in range(num_epochs):\n",
    "    # Training code...\n",
    "    \n",
    "    # Log accuracy and loss values\n",
    "    \n",
    "    writer.add_scalar('Accuracy', accuracy, epoch)\n",
    "    writer.add_scalar('Loss', loss, epoch)"
   ]
  },
  {
   "cell_type": "code",
   "execution_count": 123,
   "id": "a43da584-f109-46f8-843b-2ac1385407f4",
   "metadata": {},
   "outputs": [
    {
     "ename": "SyntaxError",
     "evalue": "cannot assign to operator (1238082722.py, line 1)",
     "output_type": "error",
     "traceback": [
      "\u001b[1;36m  File \u001b[1;32m\"C:\\Users\\kenny\\AppData\\Local\\Temp\\ipykernel_13868\\1238082722.py\"\u001b[1;36m, line \u001b[1;32m1\u001b[0m\n\u001b[1;33m    tensorboard --logdir=logs\u001b[0m\n\u001b[1;37m    ^\u001b[0m\n\u001b[1;31mSyntaxError\u001b[0m\u001b[1;31m:\u001b[0m cannot assign to operator\n"
     ]
    }
   ],
   "source": [
    "tensorboard --logdir=logs"
   ]
  },
  {
   "cell_type": "code",
   "execution_count": 10,
   "id": "e60df5da-2f2c-4884-b29a-023cbddc209e",
   "metadata": {
    "tags": []
   },
   "outputs": [
    {
     "ename": "NameError",
     "evalue": "name 'model' is not defined",
     "output_type": "error",
     "traceback": [
      "\u001b[1;31m---------------------------------------------------------------------------\u001b[0m",
      "\u001b[1;31mNameError\u001b[0m                                 Traceback (most recent call last)",
      "Cell \u001b[1;32mIn[10], line 3\u001b[0m\n\u001b[0;32m      1\u001b[0m \u001b[38;5;28;01mfrom\u001b[39;00m \u001b[38;5;21;01mtensorflow\u001b[39;00m\u001b[38;5;21;01m.\u001b[39;00m\u001b[38;5;21;01mkeras\u001b[39;00m\u001b[38;5;21;01m.\u001b[39;00m\u001b[38;5;21;01mmodels\u001b[39;00m \u001b[38;5;28;01mimport\u001b[39;00m load_model\n\u001b[1;32m----> 3\u001b[0m saved_model \u001b[38;5;241m=\u001b[39m \u001b[43mmodel\u001b[49m\u001b[38;5;241m.\u001b[39msave(\u001b[38;5;124m'\u001b[39m\u001b[38;5;124mskin_modelV5.h5\u001b[39m\u001b[38;5;124m'\u001b[39m)\n",
      "\u001b[1;31mNameError\u001b[0m: name 'model' is not defined"
     ]
    }
   ],
   "source": [
    "from tensorflow.keras.models import load_model\n",
    "\n",
    "saved_model = model.save('skin_modelV5.h5')"
   ]
  },
  {
   "cell_type": "code",
   "execution_count": 11,
   "id": "7c0b6651-b929-438e-8907-301c10aa3de2",
   "metadata": {
    "tags": []
   },
   "outputs": [],
   "source": [
    "# import os\n",
    "# os.chdir(\"C:\\\\Users\\\\kenny\\\\Desktop\\\\skin_types\\\\model7.keras\")"
   ]
  },
  {
   "cell_type": "code",
   "execution_count": 12,
   "id": "2a93e6b5-d14f-430f-99e9-a065d2f0920a",
   "metadata": {
    "tags": []
   },
   "outputs": [],
   "source": [
    "# import tensorflow as tf\n",
    "\n",
    "# model = tf.keras.models.load_model(\"skin_type_model_4.h5\")\n",
    "\n",
    "# converter = tf.lite.TFLiteConverter.from_keras_model(model) # path to the SavedModel directory\n",
    "# tflite_model = converter.convert()\n",
    "# tflite_model = converter.convert()\n",
    "# open(\"converted_model.tflite\", \"wb\").write(tflite_model)"
   ]
  },
  {
   "cell_type": "code",
   "execution_count": 13,
   "id": "5b5eda8b-bbf9-4b06-9d96-8554d4170005",
   "metadata": {
    "tags": []
   },
   "outputs": [
    {
     "ename": "NameError",
     "evalue": "name 'model' is not defined",
     "output_type": "error",
     "traceback": [
      "\u001b[1;31m---------------------------------------------------------------------------\u001b[0m",
      "\u001b[1;31mNameError\u001b[0m                                 Traceback (most recent call last)",
      "Cell \u001b[1;32mIn[13], line 1\u001b[0m\n\u001b[1;32m----> 1\u001b[0m y_pred \u001b[38;5;241m=\u001b[39m \u001b[43mmodel\u001b[49m\u001b[38;5;241m.\u001b[39mpredict(test_set)\n",
      "\u001b[1;31mNameError\u001b[0m: name 'model' is not defined"
     ]
    }
   ],
   "source": [
    "y_pred = model.predict(test_set)"
   ]
  },
  {
   "cell_type": "code",
   "execution_count": 14,
   "id": "2f0155c0-cbc9-49d3-a20d-1fc5148f73df",
   "metadata": {
    "tags": []
   },
   "outputs": [
    {
     "ename": "NameError",
     "evalue": "name 'y_pred' is not defined",
     "output_type": "error",
     "traceback": [
      "\u001b[1;31m---------------------------------------------------------------------------\u001b[0m",
      "\u001b[1;31mNameError\u001b[0m                                 Traceback (most recent call last)",
      "Cell \u001b[1;32mIn[14], line 2\u001b[0m\n\u001b[0;32m      1\u001b[0m \u001b[38;5;28;01mimport\u001b[39;00m \u001b[38;5;21;01mnumpy\u001b[39;00m \u001b[38;5;28;01mas\u001b[39;00m \u001b[38;5;21;01mnp\u001b[39;00m\n\u001b[1;32m----> 2\u001b[0m y_pred \u001b[38;5;241m=\u001b[39m np\u001b[38;5;241m.\u001b[39margmax(\u001b[43my_pred\u001b[49m, axis\u001b[38;5;241m=\u001b[39m\u001b[38;5;241m1\u001b[39m)\n\u001b[0;32m      3\u001b[0m y_pred\n",
      "\u001b[1;31mNameError\u001b[0m: name 'y_pred' is not defined"
     ]
    }
   ],
   "source": [
    "import numpy as np\n",
    "y_pred = np.argmax(y_pred, axis=1)\n",
    "y_pred"
   ]
  },
  {
   "cell_type": "code",
   "execution_count": null,
   "id": "b25b7f4d-a960-483c-ae23-9c140ec817ca",
   "metadata": {},
   "outputs": [],
   "source": [
    "import numpy as np\n",
    "import matplotlib.pyplot as plt\n",
    "\n",
    "# Sample predicted labels (y_pred)\n",
    "y_pred = np.random.randint(0, 4, 100)  # Example data, replace with your actual y_pred\n",
    "\n",
    "# Plot histogram of predicted labels\n",
    "plt.figure(figsize=(8, 6))\n",
    "plt.hist(y_pred, bins=np.arange(y_pred.min(), y_pred.max() + 2) - 0.5, edgecolor='black')\n",
    "plt.xticks(np.arange(y_pred.min(), y_pred.max() + 1))\n",
    "plt.title('Histogram of Predicted Labels')\n",
    "plt.xlabel('Predicted Label')\n",
    "plt.ylabel('Frequency')\n",
    "plt.show()\n"
   ]
  },
  {
   "cell_type": "code",
   "execution_count": null,
   "id": "f878bcc0-b05c-4925-a96b-6037dad523bd",
   "metadata": {},
   "outputs": [],
   "source": [
    "import numpy as np\n",
    "import matplotlib.pyplot as plt\n",
    "from sklearn.metrics import ConfusionMatrixDisplay\n",
    "from sklearn.metrics import confusion_matrix"
   ]
  },
  {
   "cell_type": "code",
   "execution_count": 83,
   "id": "cdac1d5a-e970-410f-84cd-ae2403400c08",
   "metadata": {},
   "outputs": [
    {
     "ename": "NameError",
     "evalue": "name 'ConfusionMatrixDisplay' is not defined",
     "output_type": "error",
     "traceback": [
      "\u001b[1;31m---------------------------------------------------------------------------\u001b[0m",
      "\u001b[1;31mNameError\u001b[0m                                 Traceback (most recent call last)",
      "Cell \u001b[1;32mIn[83], line 15\u001b[0m\n\u001b[0;32m     13\u001b[0m \u001b[38;5;66;03m# Plot the first confusion matrix (Model 1) at position (0, 0)\u001b[39;00m\n\u001b[0;32m     14\u001b[0m axes[\u001b[38;5;241m0\u001b[39m, \u001b[38;5;241m0\u001b[39m]\u001b[38;5;241m.\u001b[39mset_title(\u001b[38;5;124m\"\u001b[39m\u001b[38;5;124mModel 1\u001b[39m\u001b[38;5;124m\"\u001b[39m, size\u001b[38;5;241m=\u001b[39mtitle_size)\n\u001b[1;32m---> 15\u001b[0m \u001b[43mConfusionMatrixDisplay\u001b[49m(confusion_matrix\u001b[38;5;241m=\u001b[39mcm00, display_labels\u001b[38;5;241m=\u001b[39mdisplay_labels)\u001b[38;5;241m.\u001b[39mplot(\n\u001b[0;32m     16\u001b[0m     include_values\u001b[38;5;241m=\u001b[39m\u001b[38;5;28;01mTrue\u001b[39;00m, cmap\u001b[38;5;241m=\u001b[39mcmap, ax\u001b[38;5;241m=\u001b[39maxes[\u001b[38;5;241m0\u001b[39m, \u001b[38;5;241m0\u001b[39m], colorbar\u001b[38;5;241m=\u001b[39mcolorbar, values_format\u001b[38;5;241m=\u001b[39mvalues_format)\n\u001b[0;32m     18\u001b[0m \u001b[38;5;66;03m# Remove x-axis labels and ticks\u001b[39;00m\n\u001b[0;32m     19\u001b[0m axes[\u001b[38;5;241m0\u001b[39m, \u001b[38;5;241m0\u001b[39m]\u001b[38;5;241m.\u001b[39mxaxis\u001b[38;5;241m.\u001b[39mset_ticklabels([\u001b[38;5;124m'\u001b[39m\u001b[38;5;124m'\u001b[39m, \u001b[38;5;124m'\u001b[39m\u001b[38;5;124m'\u001b[39m, \u001b[38;5;124m'\u001b[39m\u001b[38;5;124m'\u001b[39m, \u001b[38;5;124m'\u001b[39m\u001b[38;5;124m'\u001b[39m])\n",
      "\u001b[1;31mNameError\u001b[0m: name 'ConfusionMatrixDisplay' is not defined"
     ]
    },
    {
     "data": {
      "image/png": "[encoded data removed]",
      "text/plain": [
       "<Figure size 1000x1600 with 6 Axes>"
      ]
     },
     "metadata": {},
     "output_type": "display_data"
    }
   ],
   "source": [
    "# Set formatting and styling options for the confusion matrices\n",
    "title_size = 16\n",
    "plt.rcParams.update({'font.size':16})\n",
    "display_labels = [\"Class 1\", \"Class 2\", \"Class 3\", \"Class 4\"]  # Customize labels of the classes\n",
    "colorbar = False\n",
    "cmap = \"Blues\"  # Try \"Greens\". Change the color of the confusion matrix.\n",
    "## Please see other alternatives at https://matplotlib.org/stable/tutorials/colors/colormaps.html\n",
    "values_format = \".3f\"  # Determine the number of decimal places to be displayed.\n",
    "\n",
    "# Create subplots for given confusion matrices\n",
    "f, axes = plt.subplots(3, 2, figsize=(10, 16))\n",
    "\n",
    "# Plot the first confusion matrix (Model 1) at position (0, 0)\n",
    "axes[0, 0].set_title(\"Model 1\", size=title_size)\n",
    "ConfusionMatrixDisplay(confusion_matrix=cm00, display_labels=display_labels).plot(\n",
    "    include_values=True, cmap=cmap, ax=axes[0, 0], colorbar=colorbar, values_format=values_format)\n",
    "\n",
    "# Remove x-axis labels and ticks\n",
    "axes[0, 0].xaxis.set_ticklabels(['', '', '', ''])\n",
    "axes[0, 0].set_xlabel('')\n",
    "axes[0, 0].tick_params(axis='x', which='both', bottom=False, top=False, labelbottom=False)"
   ]
  },
  {
   "cell_type": "code",
   "execution_count": null,
   "id": "f22ce9b6-a4f4-4d4a-853e-56274401cef8",
   "metadata": {},
   "outputs": [],
   "source": [
    "import seaborn as sns\n",
    "import numpy as np\n",
    "\n",
    "# Assuming cf_matrix is a 2x2 confusion matrix\n",
    "cf_matrix = np.array([[13, 2], [1, 10]])  # Example confusion matrix\n",
    "\n",
    "# Custom function to plot confusion matrix (adjust as needed)\n",
    "def make_confusion_matrix(cf_matrix, group_names=None, categories=None, cmap='Blues'):\n",
    "    plt.figure(figsize=(8, 6))\n",
    "    \n",
    "    sns.heatmap(cf_matrix, annot=True, fmt=\"d\", cmap=cmap, xticklabels=categories, yticklabels=group_names)\n",
    "    plt.title('Confusion Matrix')\n",
    "    plt.ylabel('True Labels')\n",
    "    plt.xlabel('Predicted Labels')\n",
    "    plt.show()\n",
    "\n",
    "# Labels for each class\n",
    "labels = [\"acne\", \"dry\", \"normal\", \"oily\"]\n",
    "categories = [\"zero\", \"one\"]  # Adjust depending on the number of classes\n",
    "\n",
    "# Plot confusion matrix\n",
    "make_confusion_matrix(cf_matrix, group_names=labels, categories=categories, cmap=\"Blues\")\n"
   ]
  },
  {
   "cell_type": "code",
   "execution_count": 2,
   "id": "967346de-2528-4216-b5d0-ba02169a4853",
   "metadata": {
    "tags": []
   },
   "outputs": [],
   "source": [
    "classes = [\"acne\",\"dry\", \"normal\", \"oily\"]"
   ]
  },
  {
   "cell_type": "code",
   "execution_count": 5,
   "id": "0aadb970-97f0-413b-b162-33619fd29b46",
   "metadata": {
    "tags": []
   },
   "outputs": [],
   "source": [
    "from keras.applications.vgg16 import decode_predictions\n",
    "\n",
    "def predict_image(img):\n",
    "    plt.figure(figsize=(40,8))\n",
    "    # print()\n",
    "    # print('-----------------------------------Skin Type Detection---------------------------------------------------')\n",
    "    # print()\n",
    "    # print('----------------------------------------------RESULT-------------------------------------------------------------')\n",
    "    # print()\n",
    "    x=image.img_to_array(img)\n",
    "    x=x/255\n",
    "    # plt.imshow(img)\n",
    "    x=np.expand_dims(x,axis=0)\n",
    "    #img_data=preprocess_input(x)\n",
    "\n",
    "    # print(\"Prediction: \", classes[np.argmax(model.predict(x))])\n",
    "    \n",
    "    result = model.predict(x)\n",
    "    percent = int(result.max() *100)\n",
    "    \n",
    "    # print(\"Percent of Prediction: {}% \".format(percent))\n",
    "    \n",
    "    # print(result)\n",
    "    # for i in range(len(result[0])):\n",
    "    #     if result[0][i] * 100 > 40:\n",
    "            # print(classes[i], str(int(result[0][i] * 100)) + \"%\")\n",
    "    return result, classes[np.argmax(model.predict(x))]"
   ]
  },
  {
   "cell_type": "code",
   "execution_count": 7,
   "id": "034daf34-c0f4-4c3b-abea-13456144ede9",
   "metadata": {
    "tags": []
   },
   "outputs": [
    {
     "ename": "NameError",
     "evalue": "name 'image' is not defined",
     "output_type": "error",
     "traceback": [
      "\u001b[1;31m---------------------------------------------------------------------------\u001b[0m",
      "\u001b[1;31mNameError\u001b[0m                                 Traceback (most recent call last)",
      "Cell \u001b[1;32mIn[7], line 1\u001b[0m\n\u001b[1;32m----> 1\u001b[0m im \u001b[38;5;241m=\u001b[39m \u001b[43mimage\u001b[49m\u001b[38;5;241m.\u001b[39mload_img(\u001b[38;5;124m\"\u001b[39m\u001b[38;5;124mC:\u001b[39m\u001b[38;5;130;01m\\\\\u001b[39;00m\u001b[38;5;124mUsers\u001b[39m\u001b[38;5;130;01m\\\\\u001b[39;00m\u001b[38;5;124mkenny\u001b[39m\u001b[38;5;130;01m\\\\\u001b[39;00m\u001b[38;5;124mDesktop\u001b[39m\u001b[38;5;130;01m\\\\\u001b[39;00m\u001b[38;5;124mdatasets\u001b[39m\u001b[38;5;130;01m\\\\\u001b[39;00m\u001b[38;5;124mmanual-datasets-20241012T083358Z-001\u001b[39m\u001b[38;5;130;01m\\\\\u001b[39;00m\u001b[38;5;124mmanual-datasets\u001b[39m\u001b[38;5;130;01m\\\\\u001b[39;00m\u001b[38;5;124mnormal\u001b[39m\u001b[38;5;130;01m\\\\\u001b[39;00m\u001b[38;5;124mnormal6.jpg\u001b[39m\u001b[38;5;124m\"\u001b[39m,target_size\u001b[38;5;241m=\u001b[39m(\u001b[38;5;241m224\u001b[39m,\u001b[38;5;241m224\u001b[39m))\n\u001b[0;32m      3\u001b[0m predict_image(im)\n",
      "\u001b[1;31mNameError\u001b[0m: name 'image' is not defined"
     ]
    }
   ],
   "source": [
    "im = image.load_img(\"C:\\\\Users\\\\kenny\\\\Desktop\\\\datasets\\\\manual-datasets-20241012T083358Z-001\\\\manual-datasets\\\\normal\\\\normal6.jpg\",target_size=(224,224))\n",
    "\n",
    "predict_image(im)\n"
   ]
  },
  {
   "cell_type": "code",
   "execution_count": 8,
   "id": "cb9e020a-59f6-48b3-9e89-91091995045e",
   "metadata": {
    "tags": []
   },
   "outputs": [
    {
     "ename": "NameError",
     "evalue": "name 'val_path' is not defined",
     "output_type": "error",
     "traceback": [
      "\u001b[1;31m---------------------------------------------------------------------------\u001b[0m",
      "\u001b[1;31mNameError\u001b[0m                                 Traceback (most recent call last)",
      "Cell \u001b[1;32mIn[8], line 9\u001b[0m\n\u001b[0;32m      6\u001b[0m count \u001b[38;5;241m=\u001b[39m \u001b[38;5;241m0\u001b[39m\n\u001b[0;32m      7\u001b[0m \u001b[38;5;28;01mfor\u001b[39;00m step \u001b[38;5;129;01min\u001b[39;00m test_folders:\n\u001b[1;32m----> 9\u001b[0m     test_folder_path \u001b[38;5;241m=\u001b[39m \u001b[43mval_path\u001b[49m \u001b[38;5;241m+\u001b[39m step \u001b[38;5;241m+\u001b[39m \u001b[38;5;124m\"\u001b[39m\u001b[38;5;130;01m\\\\\u001b[39;00m\u001b[38;5;124m\"\u001b[39m\n\u001b[0;32m     10\u001b[0m     test_files \u001b[38;5;241m=\u001b[39m os\u001b[38;5;241m.\u001b[39mlistdir(test_folder_path)\n\u001b[0;32m     11\u001b[0m     test_file_paths \u001b[38;5;241m=\u001b[39m []\n",
      "\u001b[1;31mNameError\u001b[0m: name 'val_path' is not defined"
     ]
    }
   ],
   "source": [
    "import os\n",
    "\n",
    "\n",
    "test_folders = [\"acne\", \"dry\", \"normal\", \"oily\"]\n",
    "results = [[]]\n",
    "count = 0\n",
    "for step in test_folders:\n",
    "    \n",
    "    test_folder_path = val_path + step + \"\\\\\"\n",
    "    test_files = os.listdir(test_folder_path)\n",
    "    test_file_paths = []\n",
    "    \n",
    "    for i in test_files:\n",
    "        test_file_paths.append(test_folder_path + i)\n",
    "    \n",
    "    for j in test_file_paths: \n",
    "        im = image.load_img(j,target_size=(224,224))\n",
    "        result, class_predicted = predict_image(im)\n",
    "        if step == class_predicted:\n",
    "            results[count].append(1)\n",
    "        else:\n",
    "            results[count].append(0)\n",
    "    count += 1\n",
    "    results.append([])"
   ]
  },
  {
   "cell_type": "code",
   "execution_count": 9,
   "id": "f3a0e1a4-71ce-4909-a3db-c56ae5217093",
   "metadata": {},
   "outputs": [
    {
     "name": "stdout",
     "output_type": "stream",
     "text": [
      "[[]]\n"
     ]
    }
   ],
   "source": [
    "print(results)"
   ]
  },
  {
   "cell_type": "code",
   "execution_count": 92,
   "id": "dbd467e0-8d37-46f8-800f-ac4e0282deb5",
   "metadata": {},
   "outputs": [
    {
     "name": "stdout",
     "output_type": "stream",
     "text": [
      "ACNE \tTest\t16/20\n",
      "DRY \tTest\t11/20\n",
      "NORMAL \tTest\t15/20\n",
      "OILY \tTest\t17/20\n"
     ]
    }
   ],
   "source": [
    "print(\"ACNE \\tTest\\t\" + str(sum(results[0])) + \"/\" + str(len(results[0])))\n",
    "print(\"DRY \\tTest\\t\" + str(sum(results[1])) + \"/\" + str(len(results[1])))\n",
    "print(\"NORMAL \\tTest\\t\" + str(sum(results[2])) + \"/\" + str(len(results[2])))\n",
    "print(\"OILY \\tTest\\t\" + str(sum(results[3])) + \"/\" + str(len(results[3])))"
   ]
  },
  {
   "cell_type": "code",
   "execution_count": 138,
   "id": "3b9b979e-f2bc-4063-bdec-8400f113fee2",
   "metadata": {},
   "outputs": [],
   "source": [
    "#export model\n",
    "\n",
    "#model = Model(inputs=used_model.input, outputs=output)\n",
    "#converter = tf.lite.TFLiteConverter.from_keras_model(model)\n",
    "#tflite_model = converter.convert()\n",
    "\n",
    "# Save the model.\n",
    "#with open('model.tflite', 'wb') as f:\n",
    " #   f.write(tflite_model)"
   ]
  },
  {
   "cell_type": "code",
   "execution_count": 93,
   "id": "1890bfbe-d983-4ec3-aaa2-cf949957c5ab",
   "metadata": {},
   "outputs": [
    {
     "name": "stdout",
     "output_type": "stream",
     "text": [
      "________________________RESULT _____________________________________\n",
      "ACNE: Test 16/20 (80.00%)\n",
      "DRY: Test 11/20 (55.00%)\n",
      "NORMAL: Test 15/20 (75.00%)\n",
      "OILY: Test 17/20 (85.00%)\n",
      "\n",
      "Total: 59/80 (73.75%)\n"
     ]
    }
   ],
   "source": [
    "print(\"________________________RESULT _____________________________________\")\n",
    "\n",
    "res = [\n",
    "    results[0],  # ACNE\n",
    "    results[1],  # DRY\n",
    "    results[2],  # NORMAL\n",
    "    results[3],  # OILY# Empty\n",
    "]\n",
    "\n",
    "categories = [\"ACNE\", \"DRY\", \"NORMAL\", \"OILY\"]\n",
    "\n",
    "total_correct = 0\n",
    "total_tests = 0\n",
    "\n",
    "for i, result in enumerate(res):\n",
    "    if result:\n",
    "        correct = sum(result)\n",
    "        total = len(result)\n",
    "        total_correct += correct\n",
    "        total_tests += total\n",
    "        print(f\"{categories[i]}: Test {correct}/{total} ({(correct / total) * 100:.2f}%)\")\n",
    "    else:\n",
    "        print(f\"{categories[i]}: No data available\")\n",
    "\n",
    "# Calculate overall percentage\n",
    "if total_tests > 0:\n",
    "    overall_percentage = (total_correct / total_tests) * 100\n",
    "    print(f\"\\nTotal: {total_correct}/{total_tests} ({overall_percentage:.2f}%)\")\n",
    "else:\n",
    "    print(\"No tests available.\")\n"
   ]
  },
  {
   "cell_type": "code",
   "execution_count": 30,
   "id": "9a1a9fa1-4dfe-49c9-8d50-8b7e2b56e634",
   "metadata": {},
   "outputs": [
    {
     "data": {
      "image/png": "[encoded data removed]",
      "text/plain": [
       "<Figure size 800x600 with 2 Axes>"
      ]
     },
     "metadata": {},
     "output_type": "display_data"
    }
   ],
   "source": [
    "import numpy as np\n",
    "import seaborn as sns\n",
    "import matplotlib.pyplot as plt\n",
    "\n",
    "# The result data provided\n",
    "\n",
    "# Calculate correct and incorrect predictions for each class\n",
    "cf_matrix = np.array([\n",
    "    [sum(results[0]), len(results[0]) - sum(results[0])],  # Acne\n",
    "    [sum(results[1]), len(results[1]) - sum(results[1])],  # Dry\n",
    "    [sum(results[2]), len(results[2]) - sum(results[2])],  # Normal\n",
    "    [sum(results[3]), len(results[3]) - sum(results[3])],  # Oily\n",
    "])\n",
    "\n",
    "# Labels for each class\n",
    "labels = [\"Acne\", \"Dry\", \"Normal\", \"Oily\"]\n",
    "categories = [\"Correct\", \"Incorrect\"]\n",
    "\n",
    "# Plot the confusion matrix\n",
    "plt.figure(figsize=(8, 6))\n",
    "sns.heatmap(cf_matrix, annot=True, fmt=\"d\", cmap=\"Blues\", xticklabels=categories, yticklabels=labels)\n",
    "plt.title('Confusion Matrix for Skin Types')\n",
    "plt.xlabel('Predictions')\n",
    "plt.ylabel('True Class')\n",
    "plt.show()\n"
   ]
  },
  {
   "cell_type": "code",
   "execution_count": 94,
   "id": "909eaf12-db73-4619-bfeb-cb882c910658",
   "metadata": {},
   "outputs": [
    {
     "ename": "ModuleNotFoundError",
     "evalue": "No module named 'seaborn'",
     "output_type": "error",
     "traceback": [
      "\u001b[1;31m---------------------------------------------------------------------------\u001b[0m",
      "\u001b[1;31mModuleNotFoundError\u001b[0m                       Traceback (most recent call last)",
      "Cell \u001b[1;32mIn[94], line 2\u001b[0m\n\u001b[0;32m      1\u001b[0m \u001b[38;5;28;01mimport\u001b[39;00m \u001b[38;5;21;01mnumpy\u001b[39;00m \u001b[38;5;28;01mas\u001b[39;00m \u001b[38;5;21;01mnp\u001b[39;00m\n\u001b[1;32m----> 2\u001b[0m \u001b[38;5;28;01mimport\u001b[39;00m \u001b[38;5;21;01mseaborn\u001b[39;00m \u001b[38;5;28;01mas\u001b[39;00m \u001b[38;5;21;01msns\u001b[39;00m\n\u001b[0;32m      3\u001b[0m \u001b[38;5;28;01mimport\u001b[39;00m \u001b[38;5;21;01mmatplotlib\u001b[39;00m\u001b[38;5;21;01m.\u001b[39;00m\u001b[38;5;21;01mpyplot\u001b[39;00m \u001b[38;5;28;01mas\u001b[39;00m \u001b[38;5;21;01mplt\u001b[39;00m\n\u001b[0;32m      5\u001b[0m \u001b[38;5;66;03m# Provided data (results)\u001b[39;00m\n\u001b[0;32m      6\u001b[0m \n\u001b[0;32m      7\u001b[0m \u001b[38;5;66;03m# Create confusion matrix based on provided results\u001b[39;00m\n",
      "\u001b[1;31mModuleNotFoundError\u001b[0m: No module named 'seaborn'"
     ]
    }
   ],
   "source": [
    "import numpy as np\n",
    "import seaborn as sns\n",
    "import matplotlib.pyplot as plt\n",
    "\n",
    "# Provided data (results)\n",
    "\n",
    "# Create confusion matrix based on provided results\n",
    "cf_matrix = np.array([\n",
    "    [sum([1 for x in results[0] if x == 0]), sum([1 for x in results[0] if x == 1])],  # Acne\n",
    "    [sum([1 for x in results[1] if x == 0]), sum([1 for x in results[1] if x == 1])],  # Dry\n",
    "    [sum([1 for x in results[2] if x == 0]), sum([1 for x in results[2] if x == 1])],  # Normal\n",
    "    [sum([1 for x in results[3] if x == 0]), sum([1 for x in results[3] if x == 1])],  # Oily\n",
    "])\n",
    "\n",
    "# Custom labels\n",
    "labels = ['True Neg', 'False Pos', 'False Neg', 'True Pos']\n",
    "categories = ['Zero', 'One']\n",
    "\n",
    "# Function to plot confusion matrix with custom labels\n",
    "def make_confusion_matrix(cf_matrix, group_names=None, categories='auto', cmap='binary'):\n",
    "    \"\"\"\n",
    "    This function will make a confusion matrix using seaborn's heatmap.\n",
    "    \n",
    "    Args:\n",
    "        cf_matrix (2x2 numpy array): confusion matrix from sklearn.metrics.confusion_matrix\n",
    "        group_names (list): List of strings that represent the labels row-wise for the matrix.\n",
    "        categories (list): List of categories for x and y axis labels.\n",
    "        cmap (str): The color map to be used for the heatmap.\n",
    "    \"\"\"\n",
    "    # Creating an array for annotations\n",
    "    group_counts = [f\"{value:0.0f}\" for value in cf_matrix.flatten()]\n",
    "    group_percentages = [f\"{value:.2%}\" for value in cf_matrix.flatten()/np.sum(cf_matrix)]\n",
    "    box_labels = [f\"{v1}\\n{v2}\" for v1, v2 in zip(group_counts, group_percentages)]\n",
    "\n",
    "    box_labels = np.asarray(box_labels).reshape(cf_matrix.shape[0], cf_matrix.shape[1])\n",
    "\n",
    "    # Set up the matplotlib figure\n",
    "    plt.figure(figsize=(8, 6))\n",
    "    sns.heatmap(cf_matrix, annot=box_labels, fmt=\"\", cmap=cmap, xticklabels=categories, yticklabels=categories)\n",
    "\n",
    "    plt.title(\"Confusion Matrix\")\n",
    "    plt.xlabel(\"Predicted Labels\")\n",
    "    plt.ylabel(\"True Labels\")\n",
    "    plt.show()\n",
    "\n",
    "# Plot the confusion matrix with custom labels\n",
    "make_confusion_matrix(cf_matrix, \n",
    "                      group_names=labels,\n",
    "                      categories=categories, \n",
    "                      cmap='binary')\n"
   ]
  },
  {
   "cell_type": "code",
   "execution_count": null,
   "id": "5b45294a-27dc-4a9c-b00d-4176086241d1",
   "metadata": {},
   "outputs": [],
   "source": []
  }
 ],
 "metadata": {
  "kernelspec": {
   "display_name": "Python 3 (ipykernel)",
   "language": "python",
   "name": "python3"
  },
  "language_info": {
   "codemirror_mode": {
    "name": "ipython",
    "version": 3
   },
   "file_extension": ".py",
   "mimetype": "text/x-python",
   "name": "python",
   "nbconvert_exporter": "python",
   "pygments_lexer": "ipython3",
   "version": "3.10.15"
  }
 },
 "nbformat": 4,
 "nbformat_minor": 5
}
